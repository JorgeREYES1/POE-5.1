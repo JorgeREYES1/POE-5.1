{
  "nbformat": 4,
  "nbformat_minor": 0,
  "metadata": {
    "colab": {
      "name": "IMC",
      "provenance": [],
      "authorship_tag": "ABX9TyNlwGZiqr/fNXSxBgvm1Hev",
      "include_colab_link": true
    },
    "kernelspec": {
      "name": "python3",
      "display_name": "Python 3"
    },
    "language_info": {
      "name": "python"
    }
  },
  "cells": [
    {
      "cell_type": "markdown",
      "metadata": {
        "id": "view-in-github",
        "colab_type": "text"
      },
      "source": [
        "<a href=\"https://colab.research.google.com/github/JorgeREYES1/POE-5.1/blob/main/IMC.ipynb\" target=\"_parent\"><img src=\"https://colab.research.google.com/assets/colab-badge.svg\" alt=\"Open In Colab\"/></a>"
      ]
    },
    {
      "cell_type": "code",
      "execution_count": 8,
      "metadata": {
        "colab": {
          "base_uri": "https://localhost:8080/"
        },
        "id": "4eDt68MC_kLl",
        "outputId": "381e46a2-99b0-4bd9-d355-65bd05b2474a"
      },
      "outputs": [
        {
          "output_type": "stream",
          "name": "stdout",
          "text": [
            "24.221453287197235\n"
          ]
        }
      ],
      "source": [
        "#@title CALCULO DEL INDICE DE MASA CORPORAL { run: \"auto\", vertical-output: true }\n",
        "ESTATURA =  1.70#@param {type:\"number\"}\n",
        "PESO =  70#@param {type:\"number\"}\n",
        "print((PESO)/(ESTATURA*ESTATURA))"
      ]
    }
  ]
}